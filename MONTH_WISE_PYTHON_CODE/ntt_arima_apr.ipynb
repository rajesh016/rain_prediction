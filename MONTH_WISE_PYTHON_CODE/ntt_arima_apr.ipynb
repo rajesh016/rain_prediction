{
 "cells": [
  {
   "cell_type": "code",
   "execution_count": 3,
   "metadata": {},
   "outputs": [],
   "source": [
    "import pandas\n",
    "import matplotlib.mlab as mlab\n",
    "import matplotlib.pyplot as plt\n",
    "import numpy as np\n",
    "import math\n",
    "from statsmodels.tsa.stattools import acf, pacf\n",
    "import statsmodels.tsa.stattools as ts\n",
    "from statsmodels.tsa.arima_model import ARIMA"
   ]
  },
  {
   "cell_type": "code",
   "execution_count": 4,
   "metadata": {},
   "outputs": [
    {
     "name": "stderr",
     "output_type": "stream",
     "text": [
      "/home/rajesh/.local/lib/python3.5/site-packages/scipy/signal/signaltools.py:1341: FutureWarning: Using a non-tuple sequence for multidimensional indexing is deprecated; use `arr[tuple(seq)]` instead of `arr[seq]`. In the future this will be interpreted as an array index, `arr[np.array(seq)]`, which will result either in an error or a different result.\n",
      "  out_full[ind] += zi\n",
      "/home/rajesh/.local/lib/python3.5/site-packages/scipy/signal/signaltools.py:1344: FutureWarning: Using a non-tuple sequence for multidimensional indexing is deprecated; use `arr[tuple(seq)]` instead of `arr[seq]`. In the future this will be interpreted as an array index, `arr[np.array(seq)]`, which will result either in an error or a different result.\n",
      "  out = out_full[ind]\n",
      "/home/rajesh/.local/lib/python3.5/site-packages/scipy/signal/signaltools.py:1350: FutureWarning: Using a non-tuple sequence for multidimensional indexing is deprecated; use `arr[tuple(seq)]` instead of `arr[seq]`. In the future this will be interpreted as an array index, `arr[np.array(seq)]`, which will result either in an error or a different result.\n",
      "  zf = out_full[ind]\n",
      "/home/rajesh/anaconda3/envs/virtual_platform/lib/python3.5/site-packages/statsmodels/tsa/kalmanf/kalmanfilter.py:646: FutureWarning: Conversion of the second argument of issubdtype from `float` to `np.floating` is deprecated. In future, it will be treated as `np.float64 == np.dtype(float).type`.\n",
      "  if issubdtype(paramsdtype, float):\n",
      "/home/rajesh/anaconda3/envs/virtual_platform/lib/python3.5/site-packages/statsmodels/tsa/kalmanf/kalmanfilter.py:650: FutureWarning: Conversion of the second argument of issubdtype from `complex` to `np.complexfloating` is deprecated. In future, it will be treated as `np.complex128 == np.dtype(complex).type`.\n",
      "  elif issubdtype(paramsdtype, complex):\n"
     ]
    }
   ],
   "source": [
    "variables = pandas.read_csv('data.csv')\n",
    "rain1 = variables['APR']\n",
    "#rain1 = (rain[0:90,:])\n",
    "rain1=rain1.replace(0,rain1.mean())\n",
    "rain1.fillna((rain1.mean()), inplace=True)\n",
    "rain1=rain1.head(101)\n",
    "lnrain1=np.log(rain1)\n",
    "rain_matrix=lnrain1.as_matrix()\n",
    "model = ARIMA(rain_matrix, order=(2,1,0))\n",
    "model_fit = model.fit(disp=0)\n",
    "model.dates=None\n",
    "model.freq=None\n",
    "model.missing=None\n",
    "model_fit.save('model_arima_apr.pkl')\n"
   ]
  },
  {
   "cell_type": "code",
   "execution_count": 6,
   "metadata": {},
   "outputs": [
    {
     "name": "stderr",
     "output_type": "stream",
     "text": [
      "/home/rajesh/anaconda3/envs/virtual_platform/lib/python3.5/site-packages/statsmodels/tsa/kalmanf/kalmanfilter.py:577: FutureWarning: Conversion of the second argument of issubdtype from `float` to `np.floating` is deprecated. In future, it will be treated as `np.float64 == np.dtype(float).type`.\n",
      "  if issubdtype(paramsdtype, float):\n"
     ]
    },
    {
     "data": {
      "text/plain": [
       "array([145.281934  , 149.70615327, 171.56598783, 157.55536666,\n",
       "       160.08194563, 163.6141492 , 161.63622619, 162.68714316,\n",
       "       163.5857242 , 163.66437744, 164.28659636, 164.83236005,\n",
       "       165.26251875, 165.78839029, 166.29445458, 166.78635595])"
      ]
     },
     "execution_count": 6,
     "metadata": {},
     "output_type": "execute_result"
    }
   ],
   "source": [
    "from statsmodels.tsa.arima_model import ARIMAResults\n",
    "loaded=ARIMAResults.load('model_arima_apr.pkl')\n",
    "prediction_apr=loaded.predict(101,116 ,typ='levels')\n",
    "prediction_apr\n",
    "predictionsadjusted_apr=np.exp(prediction_apr)\n",
    "predictionsadjusted_apr"
   ]
  },
  {
   "cell_type": "code",
   "execution_count": null,
   "metadata": {},
   "outputs": [],
   "source": []
  }
 ],
 "metadata": {
  "kernelspec": {
   "display_name": "Python 3",
   "language": "python",
   "name": "python3"
  },
  "language_info": {
   "codemirror_mode": {
    "name": "ipython",
    "version": 3
   },
   "file_extension": ".py",
   "mimetype": "text/x-python",
   "name": "python",
   "nbconvert_exporter": "python",
   "pygments_lexer": "ipython3",
   "version": "3.5.4"
  }
 },
 "nbformat": 4,
 "nbformat_minor": 2
}
