{
 "cells": [
  {
   "cell_type": "code",
   "execution_count": 16,
   "metadata": {},
   "outputs": [],
   "source": [
    "import pandas\n",
    "import matplotlib.mlab as mlab\n",
    "import matplotlib.pyplot as plt\n",
    "import numpy as np\n",
    "import math\n",
    "from statsmodels.tsa.stattools import acf, pacf\n",
    "import statsmodels.tsa.stattools as ts\n",
    "from statsmodels.tsa.arima_model import ARIMA"
   ]
  },
  {
   "cell_type": "code",
   "execution_count": 17,
   "metadata": {},
   "outputs": [],
   "source": [
    "variables = pandas.read_csv('data.csv')\n",
    "rain1 = variables['OCT']\n",
    "#rain1 = (rain[0:90,:])\n",
    "rain1=rain1.replace(0,rain1.mean())\n",
    "rain1.fillna((rain1.mean()), inplace=True)\n",
    "rain1=rain1.head(101)\n",
    "\n"
   ]
  },
  {
   "cell_type": "code",
   "execution_count": null,
   "metadata": {},
   "outputs": [],
   "source": [
    "rain1"
   ]
  },
  {
   "cell_type": "code",
   "execution_count": null,
   "metadata": {},
   "outputs": [],
   "source": [
    "lnrain1=np.log(rain1)\n",
    "rain_matrix=lnrain1.as_matrix()\n",
    "model = ARIMA(rain_matrix, order=(2,1,0))\n",
    "model_fit = model.fit(disp=0)\n",
    "model.dates=None\n",
    "model.freq=None\n",
    "model.missing=None\n",
    "model_fit.save('model_arima_oct.pkl')"
   ]
  },
  {
   "cell_type": "code",
   "execution_count": 15,
   "metadata": {},
   "outputs": [
    {
     "ename": "TypeError",
     "evalue": "'int' object is not callable",
     "output_type": "error",
     "traceback": [
      "\u001b[0;31m---------------------------------------------------------------------------\u001b[0m",
      "\u001b[0;31mTypeError\u001b[0m                                 Traceback (most recent call last)",
      "\u001b[0;32m<ipython-input-15-1b272266dbff>\u001b[0m in \u001b[0;36m<module>\u001b[0;34m()\u001b[0m\n\u001b[0;32m----> 1\u001b[0;31m \u001b[0mrain1\u001b[0m\u001b[0;34m.\u001b[0m\u001b[0msize\u001b[0m\u001b[0;34m(\u001b[0m\u001b[0;34m)\u001b[0m\u001b[0;34m\u001b[0m\u001b[0m\n\u001b[0m",
      "\u001b[0;31mTypeError\u001b[0m: 'int' object is not callable"
     ]
    }
   ],
   "source": [
    "#rain1.size()"
   ]
  },
  {
   "cell_type": "code",
   "execution_count": 24,
   "metadata": {},
   "outputs": [
    {
     "name": "stderr",
     "output_type": "stream",
     "text": [
      "/home/rajesh/anaconda3/envs/virtual_platform/lib/python3.5/site-packages/statsmodels/tsa/kalmanf/kalmanfilter.py:577: FutureWarning: Conversion of the second argument of issubdtype from `float` to `np.floating` is deprecated. In future, it will be treated as `np.float64 == np.dtype(float).type`.\n",
      "  if issubdtype(paramsdtype, float):\n"
     ]
    },
    {
     "data": {
      "text/plain": [
       "array([266.86472634, 307.16493622, 325.86607101, 346.87293968,\n",
       "       352.79942492, 319.85214999, 306.00282955, 272.53518087,\n",
       "       254.77004387, 263.94777456, 288.19234535, 365.49624993,\n",
       "       396.25180875, 420.03758474, 317.01588479, 279.92238435,\n",
       "       259.22691028, 269.55289908, 247.40898028, 271.74524143,\n",
       "       300.8592634 , 303.86797662, 254.18714993, 211.20174877,\n",
       "       216.82743157, 228.39346769, 205.69162741, 205.92943409,\n",
       "       253.05743202, 364.93645413, 289.8997726 , 312.08897389,\n",
       "       330.00060265, 414.7901733 , 374.78116645, 319.9990452 ,\n",
       "       327.26951129, 281.65839175, 305.86092115, 273.57098092,\n",
       "       267.55429884, 273.93620629, 331.84654542, 362.41116193,\n",
       "       312.90751074, 268.1012533 , 233.21017492, 206.00324442,\n",
       "       197.0004817 , 220.09640759, 243.61216059, 275.70698885,\n",
       "       328.15396971, 351.67961976, 356.89513135, 345.58782576,\n",
       "       335.21343847, 266.58523054, 218.2179101 , 213.2411154 ,\n",
       "       242.45024262, 319.32101846, 340.26445872, 347.04473669,\n",
       "       260.07544712, 278.56291801, 239.4072881 , 224.96911403,\n",
       "       192.98672363, 228.01463529, 245.67472138, 274.66082572,\n",
       "       277.0354082 , 236.0213587 , 231.64920039, 233.70741433,\n",
       "       321.20190374, 263.23929242, 225.37002813, 197.07834367,\n",
       "       233.81565318, 232.34227211, 179.49194653, 182.42324419,\n",
       "       204.3367951 , 211.91828644, 206.51584589, 150.89780317,\n",
       "       168.61243386, 196.47470897, 313.46959194, 306.807089  ,\n",
       "       335.03162034, 380.85399655, 336.4715235 , 284.86829473,\n",
       "       258.84533582, 332.83063606, 420.38918991, 386.92019663,\n",
       "       328.43191348])"
      ]
     },
     "execution_count": 24,
     "metadata": {},
     "output_type": "execute_result"
    }
   ],
   "source": [
    "import numpy as np\n",
    "from statsmodels.tsa.arima_model import ARIMAResults\n",
    "loaded=ARIMAResults.load('model_arima_oct.pkl')\n",
    "prediction_oct=loaded.predict(1,101 ,typ='levels')\n",
    "prediction_oct\n",
    "predictionsadjusted_oct=np.exp(prediction_oct)\n",
    "predictionsadjusted_oct"
   ]
  },
  {
   "cell_type": "code",
   "execution_count": 25,
   "metadata": {},
   "outputs": [
    {
     "data": {
      "text/plain": [
       "101"
      ]
     },
     "execution_count": 25,
     "metadata": {},
     "output_type": "execute_result"
    }
   ],
   "source": [
    "len(predictionsadjusted_oct)"
   ]
  },
  {
   "cell_type": "code",
   "execution_count": null,
   "metadata": {},
   "outputs": [],
   "source": []
  },
  {
   "cell_type": "code",
   "execution_count": 8,
   "metadata": {},
   "outputs": [],
   "source": [
    "from sklearn.metrics import mean_squared_error"
   ]
  },
  {
   "cell_type": "code",
   "execution_count": 27,
   "metadata": {},
   "outputs": [
    {
     "data": {
      "text/plain": [
       "5482.03821265423"
      ]
     },
     "execution_count": 27,
     "metadata": {},
     "output_type": "execute_result"
    }
   ],
   "source": [
    "mean_squared_error(rain1, predictionsadjusted_oct)"
   ]
  },
  {
   "cell_type": "code",
   "execution_count": null,
   "metadata": {},
   "outputs": [],
   "source": []
  }
 ],
 "metadata": {
  "kernelspec": {
   "display_name": "Python 3",
   "language": "python",
   "name": "python3"
  },
  "language_info": {
   "codemirror_mode": {
    "name": "ipython",
    "version": 3
   },
   "file_extension": ".py",
   "mimetype": "text/x-python",
   "name": "python",
   "nbconvert_exporter": "python",
   "pygments_lexer": "ipython3",
   "version": "3.5.4"
  }
 },
 "nbformat": 4,
 "nbformat_minor": 2
}
