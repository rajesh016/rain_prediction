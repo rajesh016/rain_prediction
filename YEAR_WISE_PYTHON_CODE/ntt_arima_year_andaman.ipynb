{
 "cells": [
  {
   "cell_type": "code",
   "execution_count": 1,
   "metadata": {},
   "outputs": [
    {
     "name": "stderr",
     "output_type": "stream",
     "text": [
      "/home/rajesh/anaconda3/envs/virtual_platform/lib/python3.5/site-packages/statsmodels/compat/pandas.py:56: FutureWarning: The pandas.core.datetools module is deprecated and will be removed in a future version. Please use the pandas.tseries module instead.\n",
      "  from pandas.core import datetools\n",
      "/home/rajesh/.local/lib/python3.5/site-packages/scipy/signal/signaltools.py:1341: FutureWarning: Using a non-tuple sequence for multidimensional indexing is deprecated; use `arr[tuple(seq)]` instead of `arr[seq]`. In the future this will be interpreted as an array index, `arr[np.array(seq)]`, which will result either in an error or a different result.\n",
      "  out_full[ind] += zi\n",
      "/home/rajesh/.local/lib/python3.5/site-packages/scipy/signal/signaltools.py:1344: FutureWarning: Using a non-tuple sequence for multidimensional indexing is deprecated; use `arr[tuple(seq)]` instead of `arr[seq]`. In the future this will be interpreted as an array index, `arr[np.array(seq)]`, which will result either in an error or a different result.\n",
      "  out = out_full[ind]\n",
      "/home/rajesh/.local/lib/python3.5/site-packages/scipy/signal/signaltools.py:1350: FutureWarning: Using a non-tuple sequence for multidimensional indexing is deprecated; use `arr[tuple(seq)]` instead of `arr[seq]`. In the future this will be interpreted as an array index, `arr[np.array(seq)]`, which will result either in an error or a different result.\n",
      "  zf = out_full[ind]\n",
      "/home/rajesh/anaconda3/envs/virtual_platform/lib/python3.5/site-packages/statsmodels/tsa/kalmanf/kalmanfilter.py:646: FutureWarning: Conversion of the second argument of issubdtype from `float` to `np.floating` is deprecated. In future, it will be treated as `np.float64 == np.dtype(float).type`.\n",
      "  if issubdtype(paramsdtype, float):\n",
      "/home/rajesh/anaconda3/envs/virtual_platform/lib/python3.5/site-packages/statsmodels/tsa/kalmanf/kalmanfilter.py:650: FutureWarning: Conversion of the second argument of issubdtype from `complex` to `np.complexfloating` is deprecated. In future, it will be treated as `np.complex128 == np.dtype(complex).type`.\n",
      "  elif issubdtype(paramsdtype, complex):\n"
     ]
    }
   ],
   "source": [
    "import pandas\n",
    "import matplotlib.mlab as mlab\n",
    "import matplotlib.pyplot as plt\n",
    "import numpy as np\n",
    "import math\n",
    "from statsmodels.tsa.stattools import acf, pacf\n",
    "import statsmodels.tsa.stattools as ts\n",
    "from statsmodels.tsa.arima_model import ARIMA\n",
    "\n",
    "variables = pandas.read_csv('STATEWISE_ DATASET1/data_ANDAMAN_NICOBAR_ISLANDS.csv')\n",
    "rain1 = variables['ANNUAL']\n",
    "#rain1 = (rain[0:90,:])\n",
    "rain1=rain1.replace(0,rain1.mean())\n",
    "rain1.fillna((rain1.mean()), inplace=True)\n",
    "rain1=rain1.head(110)\n",
    "lnrain1=np.log(rain1)\n",
    "rain_matrix=lnrain1.as_matrix()\n",
    "model = ARIMA(rain_matrix, order=(5,1,0))\n",
    "model_fit = model.fit(disp=0)\n",
    "model.dates=None\n",
    "model.freq=None\n",
    "model.missing=None\n",
    "model_fit.save('model_arima_year_ANDAMAN_NICOBAR_ISLANDS.pkl')\n"
   ]
  },
  {
   "cell_type": "code",
   "execution_count": 2,
   "metadata": {},
   "outputs": [
    {
     "name": "stderr",
     "output_type": "stream",
     "text": [
      "/home/rajesh/anaconda3/envs/virtual_platform/lib/python3.5/site-packages/statsmodels/tsa/kalmanf/kalmanfilter.py:577: FutureWarning: Conversion of the second argument of issubdtype from `float` to `np.floating` is deprecated. In future, it will be treated as `np.float64 == np.dtype(float).type`.\n",
      "  if issubdtype(paramsdtype, float):\n"
     ]
    },
    {
     "data": {
      "text/plain": [
       "array([3202.50258097, 3374.64692364, 3101.75600494, 3153.95161569,\n",
       "       3065.94526903, 3149.62230546, 3146.00896322, 3175.82653783,\n",
       "       3121.24834096, 3140.71045882, 3129.84728781, 3147.94616628,\n",
       "       3137.4754719 , 3143.94545021, 3134.39304232, 3140.11021184,\n",
       "       3136.9222004 , 3140.43011449, 3137.11104266, 3138.72406825,\n",
       "       3136.75368883])"
      ]
     },
     "execution_count": 2,
     "metadata": {},
     "output_type": "execute_result"
    }
   ],
   "source": [
    "from statsmodels.tsa.arima_model import ARIMAResults\n",
    "loaded=ARIMAResults.load('model_arima_year_ANDAMAN_NICOBAR_ISLANDS.pkl')\n",
    "prediction_year_ANDAMAN_NICOBAR_ISLANDS=loaded.predict(115,130 ,typ='levels')\n",
    "prediction_year_ANDAMAN_NICOBAR_ISLANDS\n",
    "predictionsadjusted_year_ANDAMAN_NICOBAR_ISLANDS=np.exp(prediction_year_ANDAMAN_NICOBAR_ISLANDS)\n",
    "predictionsadjusted_year_ANDAMAN_NICOBAR_ISLANDS"
   ]
  },
  {
   "cell_type": "code",
   "execution_count": null,
   "metadata": {},
   "outputs": [],
   "source": []
  }
 ],
 "metadata": {
  "kernelspec": {
   "display_name": "Python 3",
   "language": "python",
   "name": "python3"
  },
  "language_info": {
   "codemirror_mode": {
    "name": "ipython",
    "version": 3
   },
   "file_extension": ".py",
   "mimetype": "text/x-python",
   "name": "python",
   "nbconvert_exporter": "python",
   "pygments_lexer": "ipython3",
   "version": "3.5.4"
  }
 },
 "nbformat": 4,
 "nbformat_minor": 2
}
