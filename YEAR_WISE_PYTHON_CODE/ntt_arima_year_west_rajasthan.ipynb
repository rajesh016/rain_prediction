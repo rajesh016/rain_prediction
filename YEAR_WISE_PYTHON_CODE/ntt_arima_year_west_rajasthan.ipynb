{
 "cells": [
  {
   "cell_type": "code",
   "execution_count": 3,
   "metadata": {},
   "outputs": [
    {
     "name": "stderr",
     "output_type": "stream",
     "text": [
      "/home/rajesh/.local/lib/python3.5/site-packages/scipy/signal/signaltools.py:1341: FutureWarning: Using a non-tuple sequence for multidimensional indexing is deprecated; use `arr[tuple(seq)]` instead of `arr[seq]`. In the future this will be interpreted as an array index, `arr[np.array(seq)]`, which will result either in an error or a different result.\n",
      "  out_full[ind] += zi\n",
      "/home/rajesh/.local/lib/python3.5/site-packages/scipy/signal/signaltools.py:1344: FutureWarning: Using a non-tuple sequence for multidimensional indexing is deprecated; use `arr[tuple(seq)]` instead of `arr[seq]`. In the future this will be interpreted as an array index, `arr[np.array(seq)]`, which will result either in an error or a different result.\n",
      "  out = out_full[ind]\n",
      "/home/rajesh/.local/lib/python3.5/site-packages/scipy/signal/signaltools.py:1350: FutureWarning: Using a non-tuple sequence for multidimensional indexing is deprecated; use `arr[tuple(seq)]` instead of `arr[seq]`. In the future this will be interpreted as an array index, `arr[np.array(seq)]`, which will result either in an error or a different result.\n",
      "  zf = out_full[ind]\n",
      "/home/rajesh/anaconda3/envs/virtual_platform/lib/python3.5/site-packages/statsmodels/tsa/kalmanf/kalmanfilter.py:646: FutureWarning: Conversion of the second argument of issubdtype from `float` to `np.floating` is deprecated. In future, it will be treated as `np.float64 == np.dtype(float).type`.\n",
      "  if issubdtype(paramsdtype, float):\n",
      "/home/rajesh/anaconda3/envs/virtual_platform/lib/python3.5/site-packages/statsmodels/tsa/kalmanf/kalmanfilter.py:650: FutureWarning: Conversion of the second argument of issubdtype from `complex` to `np.complexfloating` is deprecated. In future, it will be treated as `np.complex128 == np.dtype(complex).type`.\n",
      "  elif issubdtype(paramsdtype, complex):\n"
     ]
    }
   ],
   "source": [
    "import pandas\n",
    "import matplotlib.mlab as mlab\n",
    "import matplotlib.pyplot as plt\n",
    "import numpy as np\n",
    "import math\n",
    "from statsmodels.tsa.stattools import acf, pacf\n",
    "import statsmodels.tsa.stattools as ts\n",
    "from statsmodels.tsa.arima_model import ARIMA\n",
    "\n",
    "variables = pandas.read_csv('STATEWISE_ DATASET1/data_WEST_RAJASTHAN.csv')\n",
    "rain1 = variables['ANNUAL']\n",
    "#rain1 = (rain[0:90,:])\n",
    "rain1=rain1.replace(0,rain1.mean())\n",
    "rain1.fillna((rain1.mean()), inplace=True)\n",
    "rain1=rain1.head(110)\n",
    "lnrain1=np.log(rain1)\n",
    "rain_matrix=lnrain1.as_matrix()\n",
    "model = ARIMA(rain_matrix, order=(5,1,0))\n",
    "model_fit = model.fit(disp=0)\n",
    "model.dates=None\n",
    "model.freq=None\n",
    "model.missing=None\n",
    "model_fit.save('model_arima_year_WEST_RAJASTHAN.pkl')\n"
   ]
  },
  {
   "cell_type": "code",
   "execution_count": 4,
   "metadata": {},
   "outputs": [
    {
     "name": "stderr",
     "output_type": "stream",
     "text": [
      "/home/rajesh/anaconda3/envs/virtual_platform/lib/python3.5/site-packages/statsmodels/tsa/kalmanf/kalmanfilter.py:577: FutureWarning: Conversion of the second argument of issubdtype from `float` to `np.floating` is deprecated. In future, it will be treated as `np.float64 == np.dtype(float).type`.\n",
      "  if issubdtype(paramsdtype, float):\n"
     ]
    },
    {
     "data": {
      "text/plain": [
       "array([288.25703458, 291.29696347, 330.67135597, 290.70254768,\n",
       "       304.44814166, 324.08325801, 305.6174379 , 314.41848696,\n",
       "       316.83191288, 313.142698  , 318.56944344, 319.49452788,\n",
       "       319.29226293, 322.10094537, 322.91895733, 324.08663344,\n",
       "       325.99455705, 327.09940458, 328.50381768, 330.0563659 ,\n",
       "       331.35628236])"
      ]
     },
     "execution_count": 4,
     "metadata": {},
     "output_type": "execute_result"
    }
   ],
   "source": [
    "from statsmodels.tsa.arima_model import ARIMAResults\n",
    "loaded=ARIMAResults.load('model_arima_year_WEST_RAJASTHAN.pkl')\n",
    "prediction_year_WEST_RAJASTHAN=loaded.predict(115,130 ,typ='levels')\n",
    "prediction_year_WEST_RAJASTHAN\n",
    "predictionsadjusted_year_WEST_RAJASTHAN=np.exp(prediction_year_WEST_RAJASTHAN)\n",
    "predictionsadjusted_year_WEST_RAJASTHAN"
   ]
  },
  {
   "cell_type": "code",
   "execution_count": null,
   "metadata": {},
   "outputs": [],
   "source": []
  }
 ],
 "metadata": {
  "kernelspec": {
   "display_name": "Python 3",
   "language": "python",
   "name": "python3"
  },
  "language_info": {
   "codemirror_mode": {
    "name": "ipython",
    "version": 3
   },
   "file_extension": ".py",
   "mimetype": "text/x-python",
   "name": "python",
   "nbconvert_exporter": "python",
   "pygments_lexer": "ipython3",
   "version": "3.5.4"
  }
 },
 "nbformat": 4,
 "nbformat_minor": 2
}
